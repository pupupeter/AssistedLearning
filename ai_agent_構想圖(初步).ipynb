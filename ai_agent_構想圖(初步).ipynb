{
  "nbformat": 4,
  "nbformat_minor": 0,
  "metadata": {
    "colab": {
      "provenance": []
    },
    "kernelspec": {
      "name": "python3",
      "display_name": "Python 3"
    },
    "language_info": {
      "name": "python"
    }
  },
  "cells": [
    {
      "cell_type": "code",
      "source": [
        "from graphviz import Digraph\n",
        "\n",
        "def create_ai_debate_flowchart():\n",
        "    dot = Digraph('AI Debate System', format='png')\n",
        "    dot.attr(rankdir='TB', size='10')\n",
        "\n",
        "    # AI Agents\n",
        "    dot.node('Data Collector', 'Data Collection Agent', shape='box', style='filled', fillcolor='lightblue')\n",
        "    dot.node('Data Preprocessor', 'Data Preprocessing & Classification Agent', shape='box', style='filled', fillcolor='lightblue')\n",
        "    dot.node('AI Professors', 'AI Expert Group', shape='ellipse', style='filled', fillcolor='lightyellow')\n",
        "    dot.node('Argument Generator', 'Argument Generation & Reasoning Agent', shape='box', style='filled', fillcolor='lightgreen')\n",
        "    dot.node('Debate Agent', 'Debate & Response Agent', shape='box', style='filled', fillcolor='lightgreen')\n",
        "    dot.node('Report Generator', 'Summary & Report Generation Agent', shape='box', style='filled', fillcolor='lightcoral')\n",
        "\n",
        "    # Edges\n",
        "    dot.edge('Data Collector', 'Data Preprocessor', label='Clean & Classify Data')\n",
        "    dot.edge('Data Preprocessor', 'AI Professors', label='Provide Processed Information')\n",
        "    dot.edge('AI Professors', 'Argument Generator', label='Generate Arguments')\n",
        "    dot.edge('Argument Generator', 'Debate Agent', label='Present Arguments')\n",
        "    dot.edge('Debate Agent', 'AI Professors', label='Engage in Debate')\n",
        "    dot.edge('Debate Agent', 'Report Generator', label='Output Debate Results')\n",
        "\n",
        "    # Render the flowchart\n",
        "    dot.render('ai_debate_flowchart', view=True)\n",
        "\n",
        "create_ai_debate_flowchart()"
      ],
      "metadata": {
        "id": "sJ4mfsboBixa"
      },
      "execution_count": 4,
      "outputs": []
    }
  ]
}